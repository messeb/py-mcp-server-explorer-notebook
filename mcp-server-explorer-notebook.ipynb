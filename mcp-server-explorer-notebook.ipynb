{
 "cells": [
  {
   "cell_type": "markdown",
   "id": "d07212b7dc6aa502",
   "metadata": {},
   "source": [
    "# 🔍 MCP Server Explorer\n",
    "\n",
    "This notebook provides an interactive environment to explore and test tools exposed by an MCP (Model Context Protocol) server using the `fastmcp` and `fast-agent-mcp` libraries.\n",
    "\n",
    "### ✅ Features\n",
    "- **🔧 Fetch Tools**: Connect to a remote MCP server and list all available tools\n",
    "- **⚙️ Call Tool Directly**: Invoke a tool programmatically with structured input\n",
    "- **🧠 Call Tool via LLM**: Let a language model select and execute tools automatically using `FastAgent`\n",
    "\n",
    "> Ideal for debugging, prototyping, and understanding how tools behave in both manual and AI-driven workflows.\n"
   ]
  },
  {
   "cell_type": "markdown",
   "id": "9c1728d443e1abb6",
   "metadata": {},
   "source": [
    "## 📦 Installation\n",
    "\n",
    "Install all required packages:\n",
    "- fast-agent-mcp – Agent orchestration framework\n",
    "- fastmcp – MCP client for tool/resource interaction\n",
    "- pandas – Data handling and visualization\n",
    "- python-dotenv – Load environment variables from .env files\n",
    "- asyncio – Built-in async support (included for completeness)"
   ]
  },
  {
   "cell_type": "code",
   "execution_count": null,
   "id": "ccb7968a2ed54d28",
   "metadata": {},
   "outputs": [],
   "source": [
    "!pip install fast-agent-mcp fastmcp pandas python-dotenv asyncio nest_asyncio\n",
    "\n",
    "import os\n",
    "from mcp_agent.core.fastagent import FastAgent\n",
    "from fastmcp import Client\n",
    "from IPython.display import display, Markdown\n",
    "from pprint import pprint\n",
    "import pandas as pd\n",
    "import argparse\n",
    "import asyncio\n",
    "import nest_asyncio\n",
    "from dotenv import load_dotenv\n",
    "\n",
    "nest_asyncio.apply()"
   ]
  },
  {
   "cell_type": "markdown",
   "id": "65cdd0921d80d789",
   "metadata": {},
   "source": [
    "## 🔐 Load Environment Variables from `.env` Files\n",
    "\n",
    "The `load_dotenv()` function from the `python-dotenv` package reads key-value pairs from a `.env` file and adds them to `os.environ`, making them available as environment variables in your Python code.\n"
   ]
  },
  {
   "cell_type": "code",
   "execution_count": null,
   "id": "3ab190e8f2587936",
   "metadata": {},
   "outputs": [],
   "source": [
    "load_dotenv()"
   ]
  },
  {
   "cell_type": "markdown",
   "id": "f433e27a099a54b7",
   "metadata": {},
   "source": [
    "## 🧰 Helper Functions\n",
    "\n",
    "This section contains utility functions that simplify or standardize common tasks throughout the notebook. These helpers improve code readability, reduce duplication, and make the notebook easier to maintain.\n",
    "\n",
    "### ✅ Guidelines\n",
    "- Keep each function focused on a single responsibility\n",
    "- Reuse helpers wherever possible (e.g., formatting, conversion, API response handling)\n",
    "- Document inputs/outputs with comments or docstrings"
   ]
  },
  {
   "cell_type": "code",
   "execution_count": null,
   "id": "initial_id",
   "metadata": {
    "collapsed": true
   },
   "outputs": [],
   "source": [
    "class NotebookAgent(FastAgent):\n",
    "    \"\"\"\n",
    "    A customized FastAgent subclass for Jupyter notebook environments.\n",
    "\n",
    "    This class disables default CLI interaction output (e.g., agent messages like\n",
    "    [USER], [ASSISTANT]) by faking CLI arguments using `argparse.Namespace`.\n",
    "\n",
    "    Ideal for use in notebooks where minimal stdout noise is preferred.\n",
    "    \"\"\"\n",
    "\n",
    "    def __init__(self):\n",
    "        \"\"\"\n",
    "        Initialize the NotebookAgent with quiet mode enabled.\n",
    "\n",
    "        Sets `self.args.quiet = True` to suppress verbose output,\n",
    "        and names the agent 'NotebookAgent' for identification.\n",
    "        \"\"\"\n",
    "        super().__init__(\"NotebookAgent\")\n",
    "        self.args = argparse.Namespace()\n",
    "        self.args.quiet = True\n",
    "\n",
    "def tool_to_dict(tool):\n",
    "    \"\"\"\n",
    "    Convert a tool object into a simplified dictionary representation.\n",
    "\n",
    "    This helper extracts key attributes from a tool, including metadata,\n",
    "    descriptive hints, and input schema properties, for easier inspection\n",
    "    or display in tabular or JSON formats.\n",
    "\n",
    "    Parameters:\n",
    "        tool (Tool): A tool object (e.g., from fastmcp or fast-agent-mcp)\n",
    "                     with properties like name, description, annotations, and inputSchema.\n",
    "\n",
    "    Returns:\n",
    "        dict: A dictionary with the following keys:\n",
    "            - name (str): Tool's internal name.\n",
    "            - title (str or None): Optional display title from annotations.\n",
    "            - description (str): Tool's description.\n",
    "            - readOnly (bool or None): Hint whether the tool is read-only.\n",
    "            - destructive (bool or None): Hint whether the tool has side effects.\n",
    "            - inputs (list of str): Names of input fields defined in the input schema.\n",
    "    \"\"\"\n",
    "    return {\n",
    "        \"name\": tool.name,\n",
    "        \"title\": tool.annotations.title if tool.annotations else None,\n",
    "        \"description\": tool.description,\n",
    "        \"readOnly\": tool.annotations.readOnlyHint if tool.annotations else None,\n",
    "        \"destructive\": tool.annotations.destructiveHint if tool.annotations else None,\n",
    "        \"inputs\": list(tool.inputSchema.get(\"properties\", {}).keys())\n",
    "    }\n"
   ]
  },
  {
   "cell_type": "markdown",
   "id": "c47f27e8b6dd66ea",
   "metadata": {},
   "source": [
    "## 🤖 Call Claude via FastAgent\n",
    "\n",
    "This cell defines and runs a simple `FastAgent` using Claude (or another LLM configured via `fast-agent-mcp`). The agent receives an instruction to act as a helpful assistant and responds to a natural language question.\n",
    "\n",
    "- The agent is declared with `@fast.agent(...)`\n",
    "- The `fast.run()` context initializes and executes the agent\n",
    "- A sample query (`\"What is the capital of Germany?\"`) is sent\n",
    "- The response is printed directly\n",
    "\n",
    "> 💡 You can replace the instruction, prompt, or model by adjusting the decorator or `FastAgent` configuration.\n"
   ]
  },
  {
   "cell_type": "code",
   "execution_count": null,
   "id": "b901ae73c892a149",
   "metadata": {},
   "outputs": [],
   "source": [
    "fast = NotebookAgent()\n",
    "\n",
    "@fast.agent(instruction=\"You are a helpful assistant.\")\n",
    "async def run():\n",
    "    async with fast.run() as agent:\n",
    "        response = await agent(\"What is the capital of Germany?\")\n",
    "        print(response)\n",
    "\n",
    "asyncio.run(run())"
   ]
  },
  {
   "cell_type": "markdown",
   "id": "8bd410b649c3beb4",
   "metadata": {},
   "source": [
    "## 🤖 Call OpenAI (GPT-4o) via FastAgent\n",
    "\n",
    "This cell runs an OpenAI-powered assistant using `fast-agent-mcp` and a custom `NotebookAgent` to suppress noisy CLI-style output in Jupyter.\n",
    "\n",
    "- The agent is configured with `model=\"gpt-4o\"` to use OpenAI\n",
    "- Instruction: `\"You are a helpful assistant.\"`\n",
    "- Prompt: `\"Explain black holes in one sentence.\"`\n",
    "- The response is printed directly in the notebook\n",
    "\n",
    "> ✅ This setup uses `NotebookAgent` to keep the notebook output clean and readable while leveraging the OpenAI API.\n"
   ]
  },
  {
   "cell_type": "code",
   "execution_count": null,
   "id": "3cc9daa061dd8adf",
   "metadata": {},
   "outputs": [],
   "source": [
    "fast = NotebookAgent()\n",
    "\n",
    "# Use model=\"gpt-4o\" to switch to OpenAI\n",
    "@fast.agent(instruction=\"You are a helpful assistant.\", model=\"gpt-4o\")\n",
    "async def run():\n",
    "    async with fast.run() as agent:\n",
    "        response = await agent(\"Explain black holes in one sentence.\")\n",
    "        print(response)\n",
    "\n",
    "asyncio.run(run())"
   ]
  },
  {
   "cell_type": "markdown",
   "id": "448e1d8766928770",
   "metadata": {},
   "source": [
    "## 🌐 FastAgent with OpenAI + Web Search (MCP Tool)\n",
    "\n",
    "This cell sets up an OpenAI-based agent that can use external tools — in this case, the `brave_websearch` MCP server — to answer questions with real-time search data.\n",
    "\n",
    "#### 🧠 What It Does:\n",
    "- Instantiates a `NotebookAgent` (a quiet `FastAgent` variant for clean notebook output)\n",
    "- Registers an agent named `\"assistant\"` with:\n",
    "  - Instruction: *\"You are a helpful assistant.\"*\n",
    "  - Model: `gpt-4o` (OpenAI)\n",
    "  - Tool access via `servers=[\"brave_websearch\"]` (MCP tool server that can perform web searches)\n",
    "- The LLM decides to call the `brave_websearch` tool to answer:\n",
    "  > \"At which position is eurowings.com ranked on Google for 'Mallorca'?\"\n",
    "\n",
    "#### 🔧 Key Concepts:\n",
    "- ✅ **Tool Calling via LLM**: The assistant can dynamically decide to call the `brave_websearch` tool if it needs up-to-date info.\n",
    "- ✅ **Hybrid Reasoning**: Combines LLM reasoning with external tool execution.\n",
    "\n",
    "> 🧪 Ideal for agents that require real-time or external knowledge beyond the LLM’s static training data.\n"
   ]
  },
  {
   "cell_type": "code",
   "execution_count": null,
   "id": "646260d2c4e98692",
   "metadata": {},
   "outputs": [],
   "source": [
    "fast = NotebookAgent()\n",
    "\n",
    "@fast.agent(name=\"assistant\",\n",
    "            instruction=\"You are a helpful assistant.\",\n",
    "            model=\"gpt-4o\",\n",
    "            servers=[\"brave_websearch\"])\n",
    "async def run():\n",
    "    async with fast.run() as agent:\n",
    "        response = await agent(\"At which position is eurowings.com ranked on google for 'Mallorca'\")\n",
    "        print(response)\n",
    "\n",
    "asyncio.run(run())"
   ]
  },
  {
   "cell_type": "markdown",
   "id": "5a327f572462ffd",
   "metadata": {},
   "source": [
    "## ⚙️ Use Playwright via `fastmcp.Client`\n",
    "\n",
    "This cell demonstrates how to connect to a local MCP server (in this case, `@playwright/mcp`) using the `fastmcp` client and display its available tools.\n",
    "\n",
    "#### 🔧 What It Does:\n",
    "- Defines an MCP client configuration (`config`) that starts the `@playwright/mcp` tool server using `npx`\n",
    "- Creates a `Client(config)` to interface with that MCP server\n",
    "- Uses an async context manager (`async with client`) to:\n",
    "  - Fetch a list of available tools from the `playwright` MCP server\n",
    "  - Convert each tool into a dictionary using `tool_to_dict(...)`\n",
    "  - Display the tools in a structured table using `pandas`"
   ]
  },
  {
   "cell_type": "code",
   "execution_count": null,
   "id": "a73fd8f375b17058",
   "metadata": {},
   "outputs": [],
   "source": [
    "config = {\n",
    "    \"mcpServers\": {\n",
    "        \"playwright\": {\n",
    "            \"command\": \"npx\",\n",
    "            \"args\": [\"-y\", \"@playwright/mcp@latest\"]\n",
    "        }\n",
    "    }\n",
    "}\n",
    "\n",
    "client = Client(config)\n",
    "\n",
    "async def run():\n",
    "    async with client:\n",
    "        mcp_tools = await client.list_tools()\n",
    "        df = pd.DataFrame([tool_to_dict(t) for t in mcp_tools])\n",
    "        display(df)\n",
    "\n",
    "asyncio.run(run())"
   ]
  },
  {
   "cell_type": "markdown",
   "id": "3f6c5e670c5d7b59",
   "metadata": {},
   "source": [
    "## 🌐 Website Navigation with Playwright MCP Tool\n",
    "\n",
    "This cell configures and uses the `@playwright/mcp` server (launched via `npx`) to simulate browser navigation to a specified URL using the `fastmcp` client.\n"
   ]
  },
  {
   "cell_type": "code",
   "execution_count": null,
   "id": "3c12bd9dab1147fe",
   "metadata": {},
   "outputs": [],
   "source": [
    "config = {\n",
    "    \"mcpServers\": {\n",
    "        \"playwright\": {\n",
    "            \"command\": \"npx\",\n",
    "            \"args\": [\"-y\", \"@playwright/mcp@latest\"],\n",
    "        }\n",
    "    }\n",
    "}\n",
    "\n",
    "client = Client(config)\n",
    "\n",
    "async def run():\n",
    "    async with client:\n",
    "        response = await client.call_tool(\"browser_navigate\", {\"url\": \"https://github.com/messeb\"})\n",
    "        # pprint(response[0].text)\n",
    "asyncio.run(run())"
   ]
  },
  {
   "cell_type": "markdown",
   "id": "460a21f80a9f0cfc",
   "metadata": {},
   "source": [
    "## 🌐 Use Brave Search via MCP Tool via `fastmcp.Client`\n",
    "\n",
    "This cell demonstrates how to integrate and use the `@modelcontextprotocol/server-brave-search` MCP tool server to:\n",
    "1. List all available tools (i.e., tool discovery)\n",
    "2. Perform a live web search using the Brave Search API"
   ]
  },
  {
   "cell_type": "code",
   "execution_count": null,
   "id": "6f2c76cce002f073",
   "metadata": {},
   "outputs": [],
   "source": [
    "config = {\n",
    "    \"mcpServers\": {\n",
    "        \"brave_websearch\": {\n",
    "            \"command\": \"npx\",\n",
    "            \"args\": [\"-y\", \"@modelcontextprotocol/server-brave-search\"],\n",
    "            \"env\": {\n",
    "                \"BRAVE_API_KEY\": os.getenv(\"BRAVE_API_KEY\")\n",
    "            }\n",
    "        }\n",
    "    }\n",
    "}\n",
    "\n",
    "client = Client(config)\n",
    "\n",
    "async def run_list():\n",
    "    async with client:\n",
    "        mcp_tools = await client.list_tools()\n",
    "        df = pd.DataFrame([tool_to_dict(t) for t in mcp_tools])\n",
    "        display(df)\n",
    "\n",
    "async def run_tool():\n",
    "    async with client:\n",
    "        response = await client.call_tool(\"brave_web_search\", {\"query\": \"Mallorca\", \"count\": 5, \"offset\": 0})\n",
    "        display(Markdown(response[0].text))\n",
    "\n",
    "asyncio.run(run_list())\n",
    "asyncio.run(run_tool())\n"
   ]
  }
 ],
 "metadata": {
  "kernelspec": {
   "display_name": "Python 3",
   "language": "python",
   "name": "python3"
  },
  "language_info": {
   "codemirror_mode": {
    "name": "ipython",
    "version": 2
   },
   "file_extension": ".py",
   "mimetype": "text/x-python",
   "name": "python",
   "nbconvert_exporter": "python",
   "pygments_lexer": "ipython2",
   "version": "2.7.6"
  }
 },
 "nbformat": 4,
 "nbformat_minor": 5
}
